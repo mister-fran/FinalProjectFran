{
 "cells": [
  {
   "cell_type": "code",
   "execution_count": null,
   "id": "816ea959",
   "metadata": {},
   "outputs": [],
   "source": [
    "import pickle\n",
    "\n",
    "with open(\"attention_weights/attention_weights_batch_11000.pkl\", \"rb\") as f:\n",
    "    attention_weights = pickle.load(f)"
   ]
  },
  {
   "cell_type": "code",
   "execution_count": null,
   "id": "45122102",
   "metadata": {},
   "outputs": [],
   "source": [
    "print(type(attention_weights))  # list (layers)\n",
    "print(len(attention_weights))   # number of layers\n",
    "print(len(attention_weights[0]))  # number of heads in first layer\n",
    "print(attention_weights[0][0].shape)  # (batch_size, seq_len, seq_len)"
   ]
  },
  {
   "cell_type": "code",
   "execution_count": null,
   "id": "91bc1579",
   "metadata": {},
   "outputs": [],
   "source": [
    "import matplotlib.pyplot as plt\n",
    "\n",
    "layer = 0\n",
    "head = 0\n",
    "sample = 1\n",
    "\n",
    "attn_map = attention_weights[layer][head][sample]  # shape: (seq_len, seq_len)\n",
    "\n",
    "plt.figure(figsize=(6, 6))\n",
    "plt.imshow(attn_map, aspect='auto', cmap='viridis')\n",
    "plt.colorbar(label='Attention Weight')\n",
    "plt.title(f'Layer {layer}, Head {head}, Sample {sample}')\n",
    "plt.xlabel('Key Position')\n",
    "plt.ylabel('Query Position')\n",
    "plt.show()"
   ]
  },
  {
   "cell_type": "code",
   "execution_count": null,
   "id": "55d1f473",
   "metadata": {},
   "outputs": [],
   "source": [
    "\n",
    "num_heads = len(attention_weights[layer])\n",
    "fig, axes = plt.subplots(1, num_heads, figsize=(4*num_heads, 4))\n",
    "\n",
    "# If only one head, axes is not a list, so wrap it in a list\n",
    "if num_heads == 1:\n",
    "    axes = [axes]\n",
    "\n",
    "for h in range(num_heads):\n",
    "    axes[h].imshow(attention_weights[layer][h][sample], aspect='auto', cmap='viridis')\n",
    "    axes[h].set_title(f'Head {h}')\n",
    "plt.suptitle(f'Layer {layer}, Sample {sample}')\n",
    "plt.show()"
   ]
  }
 ],
 "metadata": {
  "language_info": {
   "name": "python"
  }
 },
 "nbformat": 4,
 "nbformat_minor": 5
}

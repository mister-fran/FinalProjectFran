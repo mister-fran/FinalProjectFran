{
 "cells": [
  {
   "cell_type": "code",
   "execution_count": 1,
   "id": "34d454ad",
   "metadata": {},
   "outputs": [
    {
     "name": "stdout",
     "output_type": "stream",
     "text": [
      "          event_no  original_event_no  subdirectory_no  part_no  shard_no  \\\n",
      "0  111000100000000                  0               11        1         1   \n",
      "1  111000100000002                  2               11        1         1   \n",
      "2  111000100000003                  3               11        1         1   \n",
      "3  111000100000005                  5               11        1         1   \n",
      "4  111000100000008                  8               11        1         1   \n",
      "\n",
      "   N_doms  offset         energy   azimuth    zenith  ...  SelectionWeight  \\\n",
      "0     105     105   73680.617188  4.307122  1.088073  ...              1.0   \n",
      "1      32     137   19012.628906  2.446139  2.935971  ...              1.0   \n",
      "2     114     251  193913.015625  0.011026  0.919336  ...              1.0   \n",
      "3      19     270   17603.115234  4.503489  1.431804  ...              1.0   \n",
      "4     104     374  170524.578125  2.268849  1.356106  ...              1.0   \n",
      "\n",
      "   SimMode  SolidAngle  TotalColumnDepthCGS  TotalPrimaryWeight  TotalWeight  \\\n",
      "0        0   12.566371         6.009304e+05                 1.0     0.000070   \n",
      "1        0   12.566371         1.664943e+06                 1.0     0.000024   \n",
      "2        0   12.566371         3.077045e+05                 1.0     0.000076   \n",
      "3        0   12.566371         1.271487e+06                 1.0     0.000071   \n",
      "4        0   12.566371         7.388032e+05                 1.0     0.000170   \n",
      "\n",
      "   TotalXsectionCGS  TrueActiveLengthAfter  TrueActiveLengthBefore  TypeWeight  \n",
      "0      1.960715e-34            1168.848267             5070.489746         0.5  \n",
      "1      9.336015e-35             967.824585             6522.270996         0.5  \n",
      "2      4.115322e-34             822.320068             2573.304199         0.5  \n",
      "3      9.392356e-35             909.837891            13132.682617         0.5  \n",
      "4      3.842247e-34             884.946594             7292.676758         0.5  \n",
      "\n",
      "[5 rows x 124 columns]\n"
     ]
    }
   ],
   "source": [
    "import pandas as pd\n",
    "\n",
    "file_path = r\"C:\\Users\\beego\\Desktop\\Visualcode\\APPML\\FinalProject\\icecubetransformer\\IceCube_data_final_project\\22011\\truth_1.parquet\"\n",
    "df = pd.read_parquet(file_path)\n",
    "print(df.head())"
   ]
  },
  {
   "cell_type": "code",
   "execution_count": 2,
   "id": "ae012811",
   "metadata": {},
   "outputs": [
    {
     "name": "stdout",
     "output_type": "stream",
     "text": [
      "['event_no', 'original_event_no', 'subdirectory_no', 'part_no', 'shard_no', 'N_doms', 'offset', 'energy', 'azimuth', 'zenith', 'pid', 'event_time', 'interaction_type', 'elasticity', 'RunID', 'SubrunID', 'EventID', 'SubEventID', 'dbang_decay_length', 'track_length', 'stopped_muon', 'energy_track', 'energy_cascade', 'inelasticity', 'DeepCoreFilter_13', 'CascadeFilter_13', 'MuonFilter_13', 'OnlineL2Filter_17', 'L3_oscNext_bool', 'L4_oscNext_bool', 'L5_oscNext_bool', 'L6_oscNext_bool', 'L7_oscNext_bool', 'Homogenized_QTot', 'MCLabelClassification', 'MCLabelCoincidentMuons', 'MCLabelBgMuonMCPE', 'MCLabelBgMuonMCPECharge', 'GNLabelTrackEnergyDeposited', 'GNLabelTrackEnergyOnEntrance', 'GNLabelTrackEnergyOnEntrancePrimary', 'GNLabelTrackEnergyDepositedPrimary', 'GNLabelEnergyPrimary', 'GNLabelCascadeEnergyDepositedPrimary', 'GNLabelCascadeEnergyDeposited', 'GNLabelEnergyDepositedTotal', 'GNLabelEnergyDepositedPrimary', 'GNLabelHighestEInIceParticleIsChild', 'GNLabelHighestEInIceParticleDistance', 'GNLabelHighestEInIceParticleEFraction', 'GNLabelHighestEDaughterDistance', 'GNLabelHighestEDaughterEFraction', 'zenith_GNHighestEInIceParticle', 'azimuth_GNHighestEInIceParticle', 'dir_x_GNHighestEInIceParticle', 'dir_y_GNHighestEInIceParticle', 'dir_z_GNHighestEInIceParticle', 'pos_x_GNHighestEInIceParticle', 'pos_y_GNHighestEInIceParticle', 'pos_z_GNHighestEInIceParticle', 'time_GNHighestEInIceParticle', 'speed_GNHighestEInIceParticle', 'energy_GNHighestEInIceParticle', 'zenith_GNHighestEDaughter', 'azimuth_GNHighestEDaughter', 'dir_x_GNHighestEDaughter', 'dir_y_GNHighestEDaughter', 'dir_z_GNHighestEDaughter', 'pos_x_GNHighestEDaughter', 'pos_y_GNHighestEDaughter', 'pos_z_GNHighestEDaughter', 'time_GNHighestEDaughter', 'speed_GNHighestEDaughter', 'energy_GNHighestEDaughter', 'BjorkenX', 'BjorkenY', 'CylinderHeight', 'CylinderRadius', 'DirectionWeight', 'EnergyLost', 'ImpactParam', 'InIceNeutrinoEnergy', 'InIceNeutrinoType', 'InjectionAreaCGS', 'InjectionCylinderHeight', 'InjectionCylinderRadius', 'InjectionOrigin_x', 'InjectionOrigin_y', 'InjectionOrigin_z', 'InteractionColumnDepthCGS', 'InteractionPositionWeight', 'InteractionType', 'InteractionTypeWeight', 'InteractionWeight', 'InteractionXsectionCGS', 'LengthInVolume', 'MaxAzimuth', 'MaxEnergyLog', 'MaxZenith', 'MinAzimuth', 'MinEnergyLog', 'MinZenith', 'NEvents', 'NInIceNus', 'OneWeight', 'OneWeightPerType', 'PowerLawIndex', 'PrimaryNeutrinoAzimuth', 'PrimaryNeutrinoEnergy', 'PrimaryNeutrinoType', 'PrimaryNeutrinoZenith', 'PropagationWeight', 'RangeInMWE', 'RangeInMeter', 'SelectionWeight', 'SimMode', 'SolidAngle', 'TotalColumnDepthCGS', 'TotalPrimaryWeight', 'TotalWeight', 'TotalXsectionCGS', 'TrueActiveLengthAfter', 'TrueActiveLengthBefore', 'TypeWeight']\n"
     ]
    }
   ],
   "source": [
    "import pandas as pd\n",
    "\n",
    "file_path = r\"C:\\Users\\beego\\Desktop\\Visualcode\\APPML\\FinalProject\\icecubetransformer\\IceCube_data_final_project\\22011\\truth_1.parquet\"\n",
    "df = pd.read_parquet(file_path)\n",
    "print(df.columns.tolist())"
   ]
  },
  {
   "cell_type": "code",
   "execution_count": 7,
   "id": "eeb5067d",
   "metadata": {},
   "outputs": [
    {
     "name": "stdout",
     "output_type": "stream",
     "text": [
      "[1]\n"
     ]
    }
   ],
   "source": [
    "print(df['interaction_type'].unique())"
   ]
  },
  {
   "cell_type": "code",
   "execution_count": 9,
   "id": "61cdead6",
   "metadata": {},
   "outputs": [],
   "source": [
    "import matplotlib.pyplot as plt"
   ]
  },
  {
   "cell_type": "code",
   "execution_count": 11,
   "id": "f536f0f3",
   "metadata": {},
   "outputs": [
    {
     "data": {
      "text/plain": [
       "(array([     0.,      0.,      0.,      0.,      0.,      0.,      0.,\n",
       "             0.,      0.,      0.,      0.,      0.,      0.,      0.,\n",
       "             0.,      0.,      0.,      0.,      0.,      0.,      0.,\n",
       "             0.,      0.,      0.,      0., 236781.,      0.,      0.,\n",
       "             0.,      0.,      0.,      0.,      0.,      0.,      0.,\n",
       "             0.,      0.,      0.,      0.,      0.,      0.,      0.,\n",
       "             0.,      0.,      0.,      0.,      0.,      0.,      0.,\n",
       "             0.]),\n",
       " array([-1.5 , -1.48, -1.46, -1.44, -1.42, -1.4 , -1.38, -1.36, -1.34,\n",
       "        -1.32, -1.3 , -1.28, -1.26, -1.24, -1.22, -1.2 , -1.18, -1.16,\n",
       "        -1.14, -1.12, -1.1 , -1.08, -1.06, -1.04, -1.02, -1.  , -0.98,\n",
       "        -0.96, -0.94, -0.92, -0.9 , -0.88, -0.86, -0.84, -0.82, -0.8 ,\n",
       "        -0.78, -0.76, -0.74, -0.72, -0.7 , -0.68, -0.66, -0.64, -0.62,\n",
       "        -0.6 , -0.58, -0.56, -0.54, -0.52, -0.5 ]),\n",
       " <BarContainer object of 50 artists>)"
      ]
     },
     "execution_count": 11,
     "metadata": {},
     "output_type": "execute_result"
    },
    {
     "data": {
      "image/png": "[encoded data removed]",
      "text/plain": [
       "<Figure size 640x480 with 1 Axes>"
      ]
     },
     "metadata": {},
     "output_type": "display_data"
    }
   ],
   "source": [
    "plt.hist(df['stopped_muon'], bins=50, edgecolor='black')"
   ]
  }
 ],
 "metadata": {
  "kernelspec": {
   "display_name": "FinalProject",
   "language": "python",
   "name": "python3"
  },
  "language_info": {
   "codemirror_mode": {
    "name": "ipython",
    "version": 3
   },
   "file_extension": ".py",
   "mimetype": "text/x-python",
   "name": "python",
   "nbconvert_exporter": "python",
   "pygments_lexer": "ipython3",
   "version": "3.12.9"
  }
 },
 "nbformat": 4,
 "nbformat_minor": 5
}

{
 "cells": [
  {
   "cell_type": "code",
   "execution_count": null,
   "id": "c806f3e9",
   "metadata": {
    "vscode": {
     "languageId": "plaintext"
    }
   },
   "outputs": [],
   "source": [
    "!pip install -r /content/FinalProjectFran/requirements.txt\n",
    "!pip install torch_geometric\n",
    "!pip install torchmetrics transformers accelerate pytorch-lightning torchao\n",
    "!pip install pandas\n",
    "!pip install pyarrow\n",
    "\n",
    "#Copy data\n",
    "!cp /content/drive/MyDrive/AppML_FinalProject/IceCube_data_final_project.zip /content/\n",
    "#Unzip data\n",
    "!unzip /content/IceCube_data_final_project.zip -d /content/\n",
    "\n"
   ]
  }
 ],
 "metadata": {
  "language_info": {
   "name": "python"
  }
 },
 "nbformat": 4,
 "nbformat_minor": 5
}
